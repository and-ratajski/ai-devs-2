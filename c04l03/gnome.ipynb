{
 "cells": [
  {
   "cell_type": "code",
   "execution_count": 1,
   "metadata": {},
   "outputs": [],
   "source": [
    "import os\n",
    "import requests\n",
    "import json\n",
    "from dotenv import load_dotenv\n",
    "from openai import OpenAI"
   ]
  },
  {
   "cell_type": "code",
   "execution_count": 2,
   "metadata": {},
   "outputs": [],
   "source": [
    "load_dotenv()\n",
    "OPENAI_API_KEY = os.environ[\"OPENAI_API_KEY\"]\n",
    "AIDEVS_API_KEY = os.environ[\"AIDEVS_API_KEY\"]"
   ]
  },
  {
   "cell_type": "code",
   "execution_count": 3,
   "metadata": {},
   "outputs": [],
   "source": [
    "client = OpenAI()"
   ]
  },
  {
   "cell_type": "code",
   "execution_count": 4,
   "metadata": {},
   "outputs": [
    {
     "name": "stdout",
     "output_type": "stream",
     "text": [
      "{'code': 0, 'msg': 'I will give you a drawing of a gnome with a hat on his head. Tell me what is the color of the hat in POLISH. If any errors occur, return \"ERROR\" as answer', 'hint': \"it won't always be a drawing of a gnome >:)\", 'url': 'https://tasks.aidevs.pl/gnome/e65c0addc578b9dfed2de5a892fa3146.png'}\n"
     ]
    }
   ],
   "source": [
    "response = requests.post(\"https://tasks.aidevs.pl/token/gnome\", json=dict(apikey=AIDEVS_API_KEY))\n",
    "response_json = json.loads(response.text)\n",
    "token = response_json[\"token\"]\n",
    "\n",
    "response = requests.get(f\"https://tasks.aidevs.pl/task/{token}\")\n",
    "response_json = json.loads(response.text)\n",
    "print(response_json)\n",
    "img_url = response_json[\"url\"]"
   ]
  },
  {
   "cell_type": "code",
   "execution_count": 5,
   "metadata": {},
   "outputs": [
    {
     "name": "stdout",
     "output_type": "stream",
     "text": [
      "ERROR\n"
     ]
    }
   ],
   "source": [
    "completion = client.chat.completions.create(\n",
    "  model=\"gpt-4-turbo\",\n",
    "  messages=[\n",
    "    {\n",
    "        \"role\": \"user\",\n",
    "        \"content\": [\n",
    "            {\"type\": \"text\", \"text\": \"Tell me what is the color of the gnome's hat in POLISH. Return only the color and nothing else. If there is no gnome or hat in this image return 'ERROR'\"},\n",
    "            {\"type\": \"image_url\", \"image_url\": {\"url\": img_url}},\n",
    "        ]\n",
    "    }\n",
    "  ]\n",
    ")\n",
    "\n",
    "answer = str(completion.choices[0].message.content)\n",
    "print(answer)"
   ]
  },
  {
   "cell_type": "code",
   "execution_count": 6,
   "metadata": {},
   "outputs": [
    {
     "name": "stdout",
     "output_type": "stream",
     "text": [
      "{\n",
      "    \"code\": 0,\n",
      "    \"msg\": \"OK\",\n",
      "    \"note\": \"CORRECT\"\n",
      "}\n"
     ]
    }
   ],
   "source": [
    "response = requests.post(f\"https://tasks.aidevs.pl/answer/{token}\", json=dict(answer=answer))\n",
    "print(response.text)"
   ]
  }
 ],
 "metadata": {
  "kernelspec": {
   "display_name": "Python [conda env:ai-devs-2]",
   "language": "python",
   "name": "conda-env-ai-devs-2-py"
  },
  "language_info": {
   "codemirror_mode": {
    "name": "ipython",
    "version": 3
   },
   "file_extension": ".py",
   "mimetype": "text/x-python",
   "name": "python",
   "nbconvert_exporter": "python",
   "pygments_lexer": "ipython3",
   "version": "3.12.2"
  }
 },
 "nbformat": 4,
 "nbformat_minor": 4
}
