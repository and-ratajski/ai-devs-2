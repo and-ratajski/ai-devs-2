{
 "cells": [
  {
   "cell_type": "code",
   "execution_count": 84,
   "id": "cbe18fe0",
   "metadata": {},
   "outputs": [],
   "source": [
    "import requests\n",
    "import json"
   ]
  },
  {
   "cell_type": "code",
   "execution_count": 91,
   "id": "5b16e90a",
   "metadata": {},
   "outputs": [
    {
     "name": "stdout",
     "output_type": "stream",
     "text": [
      "{\n",
      "    \"code\": 0,\n",
      "    \"msg\": \"OK\",\n",
      "    \"note\": \"CORRECT\"\n",
      "}\n"
     ]
    }
   ],
   "source": [
    "response = requests.post(\"https://tasks.aidevs.pl/token/helloapi\", json=dict(apikey=\"9b5af73f-f702-47f7-9bf8-6fa0c23d9803\"))\n",
    "response_json = json.loads(response.text)\n",
    "token = response_json[\"token\"]\n",
    "\n",
    "response = requests.get(f\"https://tasks.aidevs.pl/task/{token}\")\n",
    "response_json = json.loads(response.text)\n",
    "cookie = response_json[\"cookie\"]\n",
    "\n",
    "response = requests.post(f\"https://tasks.aidevs.pl/answer/{token}\", json=dict(answer=cookie))\n",
    "print(response.text)"
   ]
  }
 ],
 "metadata": {
  "kernelspec": {
   "display_name": "Python [conda env:ai-devs-2]",
   "language": "python",
   "name": "conda-env-ai-devs-2-py"
  },
  "language_info": {
   "codemirror_mode": {
    "name": "ipython",
    "version": 3
   },
   "file_extension": ".py",
   "mimetype": "text/x-python",
   "name": "python",
   "nbconvert_exporter": "python",
   "pygments_lexer": "ipython3",
   "version": "3.12.2"
  }
 },
 "nbformat": 4,
 "nbformat_minor": 5
}
