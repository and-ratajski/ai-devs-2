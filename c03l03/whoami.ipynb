{
 "cells": [
  {
   "cell_type": "code",
   "execution_count": 1,
   "metadata": {},
   "outputs": [],
   "source": [
    "import os\n",
    "import requests\n",
    "import json\n",
    "from dotenv import load_dotenv\n",
    "from openai import OpenAI"
   ]
  },
  {
   "cell_type": "code",
   "execution_count": 2,
   "metadata": {},
   "outputs": [],
   "source": [
    "load_dotenv()\n",
    "OPENAI_API_KEY = os.environ[\"OPENAI_API_KEY\"]\n",
    "AIDEVS_API_KEY = os.environ[\"AIDEVS_API_KEY\"]"
   ]
  },
  {
   "cell_type": "code",
   "execution_count": 3,
   "metadata": {},
   "outputs": [],
   "source": [
    "client = OpenAI()"
   ]
  },
  {
   "cell_type": "code",
   "execution_count": 4,
   "metadata": {},
   "outputs": [],
   "source": [
    "system_context_hint = \"\"\"\n",
    "You are a specialist in answering questions about a person based on a set of hints. Only exception is that when asked,\n",
    "you don't return the person's name but return YES if you are certain who that is and NO if you are not. You don't take\n",
    "guesses and return YES only if you are certain.\n",
    "\n",
    "### Example\n",
    "Hint 1: American politician who was born in 1961 Honolulu, Hawaii, U.S.\n",
    "Asistant: NO\n",
    "\n",
    "Hint 1: American politician who was born in 1961 Honolulu, Hawaii, U.S.\n",
    "Hint 2: He or she was elected President of the United States of America in 2009.\n",
    "Asistant: YES\n",
    "\"\"\"\n",
    "\n",
    "system_context_aswer = \"\"\"\n",
    "You are a specialist in answering questions about a person based on a set of hints. You return only the person's name\n",
    "based on your best guess and the hints you are provided.\n",
    "\n",
    "### Example\n",
    "Hint 1: American politician who was born in 1961 Honolulu, Hawaii, U.S.\n",
    "Hint 2: He or she was elected President of the United States of America in 2009.\n",
    "Asistant: Barack Obama\n",
    "\"\"\""
   ]
  },
  {
   "cell_type": "code",
   "execution_count": 5,
   "metadata": {},
   "outputs": [
    {
     "name": "stdout",
     "output_type": "stream",
     "text": [
      "był wegetarianinem i eksperymentował z różnymi ekstremalnymi dietami\n",
      "NO\n",
      "uczęszczał do college, ale rzucił szkołę po jednym semestrze\n",
      "NO\n",
      "Był pod wpływem Zen buddyzmu i odwiedził Indie w poszukiwaniu duchowego oświecenia\n",
      "YES\n"
     ]
    }
   ],
   "source": [
    "hints = []\n",
    "counter = 0\n",
    "\n",
    "while True:\n",
    "    response = requests.post(\"https://tasks.aidevs.pl/token/whoami\", json=dict(apikey=AIDEVS_API_KEY))\n",
    "    response_json = json.loads(response.text)\n",
    "    token = response_json[\"token\"]\n",
    "\n",
    "    response = requests.get(f\"https://tasks.aidevs.pl/task/{token}\")\n",
    "    response_json = json.loads(response.text)\n",
    "\n",
    "    hint = response_json[\"hint\"]\n",
    "    hints.append(hint)\n",
    "    print(hints[counter])\n",
    "    \n",
    "    completion = client.chat.completions.create(\n",
    "      model=\"gpt-4\",\n",
    "      messages=[\n",
    "        {\"role\": \"system\", \"content\": system_context_hint},\n",
    "        {\"role\": \"user\", \"content\": f\"\\n\".join(f\"Hint {idx+1}: {el}\" for idx, el in enumerate(hints))}\n",
    "      ]\n",
    "    )\n",
    "\n",
    "    answer = str(completion.choices[0].message.content)\n",
    "    print(answer)\n",
    "    if counter > 7 or answer == \"YES\":\n",
    "        break\n",
    "    counter += 1"
   ]
  },
  {
   "cell_type": "code",
   "execution_count": 6,
   "metadata": {},
   "outputs": [
    {
     "name": "stdout",
     "output_type": "stream",
     "text": [
      "Steve Jobs\n"
     ]
    }
   ],
   "source": [
    "completion = client.chat.completions.create(\n",
    "  model=\"gpt-4\",\n",
    "  messages=[\n",
    "    {\"role\": \"system\", \"content\": system_context_aswer},\n",
    "    {\"role\": \"user\", \"content\": f\"\\n\".join(f\"Hint {idx+1}: {el}\" for idx, el in enumerate(hints))}\n",
    "  ]\n",
    ")\n",
    "\n",
    "answer = str(completion.choices[0].message.content)\n",
    "print(answer)"
   ]
  },
  {
   "cell_type": "code",
   "execution_count": 7,
   "metadata": {},
   "outputs": [
    {
     "name": "stdout",
     "output_type": "stream",
     "text": [
      "{\n",
      "    \"code\": 0,\n",
      "    \"msg\": \"OK\",\n",
      "    \"note\": \"CORRECT\"\n",
      "}\n"
     ]
    }
   ],
   "source": [
    "response = requests.post(f\"https://tasks.aidevs.pl/answer/{token}\", json=dict(answer=answer))\n",
    "print(response.text)"
   ]
  }
 ],
 "metadata": {
  "kernelspec": {
   "display_name": "Python [conda env:ai-devs-2]",
   "language": "python",
   "name": "conda-env-ai-devs-2-py"
  },
  "language_info": {
   "codemirror_mode": {
    "name": "ipython",
    "version": 3
   },
   "file_extension": ".py",
   "mimetype": "text/x-python",
   "name": "python",
   "nbconvert_exporter": "python",
   "pygments_lexer": "ipython3",
   "version": "3.12.2"
  }
 },
 "nbformat": 4,
 "nbformat_minor": 4
}
