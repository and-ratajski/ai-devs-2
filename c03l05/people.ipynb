{
 "cells": [
  {
   "cell_type": "code",
   "execution_count": 1,
   "metadata": {},
   "outputs": [],
   "source": [
    "import os\n",
    "import requests\n",
    "import json\n",
    "from dotenv import load_dotenv\n",
    "from openai import OpenAI"
   ]
  },
  {
   "cell_type": "code",
   "execution_count": 2,
   "metadata": {},
   "outputs": [],
   "source": [
    "load_dotenv()\n",
    "OPENAI_API_KEY = os.environ[\"OPENAI_API_KEY\"]\n",
    "AIDEVS_API_KEY = os.environ[\"AIDEVS_API_KEY\"]"
   ]
  },
  {
   "cell_type": "code",
   "execution_count": 3,
   "metadata": {},
   "outputs": [],
   "source": [
    "client = OpenAI()"
   ]
  },
  {
   "cell_type": "code",
   "execution_count": 4,
   "metadata": {},
   "outputs": [
    {
     "name": "stdout",
     "output_type": "stream",
     "text": [
      "{'imie': 'Dariusz', 'nazwisko': 'Kaczor', 'wiek': 46, 'o_mnie': 'niekiedy lubie jeść lody. Mieszkam w Radomiu. Interesuję mnie polikyka a także żeglarstwo', 'ulubiona_postac_z_kapitana_bomby': 'Admirał Gwiezdnej Floty', 'ulubiony_serial': 'Stranger Things', 'ulubiony_film': 'Avengers', 'ulubiony_kolor': 'morski'}\n",
      "\n",
      "1387\n"
     ]
    }
   ],
   "source": [
    "response = requests.get(f\"https://tasks.aidevs.pl/data/people.json\")\n",
    "people_list = json.loads(response.content)\n",
    "\n",
    "print(people_list[0], end=\"\\n\\n\")\n",
    "print(len(people_list))"
   ]
  },
  {
   "cell_type": "code",
   "execution_count": 5,
   "metadata": {},
   "outputs": [],
   "source": [
    "def get_ulubiona_postac_z_kapitana_bomby_of_person(name: str, last_name: str) -> str:\n",
    "    found_people = [person for person in people_list if person[\"imie\"] == name and person[\"nazwisko\"] == last_name]\n",
    "    person = found_people[0]\n",
    "    return person[\"ulubiona_postac_z_kapitana_bomby\"]\n",
    "\n",
    "def get_ulubiony_serial_of_person(name: str, last_name: str) -> str:\n",
    "    found_people = [person for person in people_list if person[\"imie\"] == name and person[\"nazwisko\"] == last_name]\n",
    "    person = found_people[0]\n",
    "    return person[\"ulubiony_serial\"]\n",
    "\n",
    "def get_ulubiony_film_of_person(name: str, last_name: str) -> str:\n",
    "    found_people = [person for person in people_list if person[\"imie\"] == name and person[\"nazwisko\"] == last_name]\n",
    "    person = found_people[0]\n",
    "    return person[\"ulubiony_film\"]\n",
    "\n",
    "def get_ulubiony_kolor_of_person(name: str, last_name: str) -> str:\n",
    "    found_people = [person for person in people_list if person[\"imie\"] == name and person[\"nazwisko\"] == last_name]\n",
    "    person = found_people[0]\n",
    "    return person[\"ulubiony_kolor\"]\n",
    "\n",
    "functions = {\n",
    "    \"get_ulubiona_postac_z_kapitana_bomby_of_person\": get_ulubiona_postac_z_kapitana_bomby_of_person,\n",
    "    \"get_ulubiony_serial_of_person\": get_ulubiony_serial_of_person,\n",
    "    \"get_ulubiony_film_of_person\": get_ulubiony_film_of_person,\n",
    "    \"get_ulubiony_kolor_of_person\": get_ulubiony_kolor_of_person\n",
    "}"
   ]
  },
  {
   "cell_type": "code",
   "execution_count": 6,
   "metadata": {},
   "outputs": [],
   "source": [
    "func_kapt_bomb_def = {\n",
    "    \"type\": \"function\",\n",
    "    \"function\": {\n",
    "        \"name\": \"get_ulubiona_postac_z_kapitana_bomby_of_person\",\n",
    "        \"description\": \"Returns favourite character from Kapitan Bomba series of a given person\",\n",
    "        \"parameters\": {\n",
    "            \"type\": \"object\",\n",
    "            \"properties\": {\n",
    "                \"name\": {\n",
    "                    \"type\": \"string\",\n",
    "                    \"description\": \"Person's first name\",\n",
    "                },\n",
    "                \"last_name\": {\n",
    "                    \"type\": \"string\",\n",
    "                    \"description\": \"Person's last name\",\n",
    "                },\n",
    "            },\n",
    "            \"required\": [\"name, last_name\"],\n",
    "        },\n",
    "    },\n",
    "}\n",
    "\n",
    "func_series_def = {\n",
    "    \"type\": \"function\",\n",
    "    \"function\": {\n",
    "        \"name\": \"get_ulubiony_serial_of_person\",\n",
    "        \"description\": \"Returns favourite TV series of a given person\",\n",
    "        \"parameters\": {\n",
    "            \"type\": \"object\",\n",
    "            \"properties\": {\n",
    "                \"name\": {\n",
    "                    \"type\": \"string\",\n",
    "                    \"description\": \"Person's first name\",\n",
    "                },\n",
    "                \"last_name\": {\n",
    "                    \"type\": \"string\",\n",
    "                    \"description\": \"Person's last name\",\n",
    "                },\n",
    "            },\n",
    "            \"required\": [\"name, last_name\"],\n",
    "        },\n",
    "    },\n",
    "}\n",
    "\n",
    "func_film_def = {\n",
    "    \"type\": \"function\",\n",
    "    \"function\": {\n",
    "        \"name\": \"get_ulubiony_film_of_person\",\n",
    "        \"description\": \"Returns favourite movie of a given person\",\n",
    "        \"parameters\": {\n",
    "            \"type\": \"object\",\n",
    "            \"properties\": {\n",
    "                \"name\": {\n",
    "                    \"type\": \"string\",\n",
    "                    \"description\": \"Person's first name\",\n",
    "                },\n",
    "                \"last_name\": {\n",
    "                    \"type\": \"string\",\n",
    "                    \"description\": \"Person's last name\",\n",
    "                },\n",
    "            },\n",
    "            \"required\": [\"name, last_name\"],\n",
    "        },\n",
    "    },\n",
    "}\n",
    "\n",
    "func_kapt_bomb_def = {\n",
    "    \"type\": \"function\",\n",
    "    \"function\": {\n",
    "        \"name\": \"get_ulubiony_kolor_of_person\",\n",
    "        \"description\": \"Returns favourite color of a given person\",\n",
    "        \"parameters\": {\n",
    "            \"type\": \"object\",\n",
    "            \"properties\": {\n",
    "                \"name\": {\n",
    "                    \"type\": \"string\",\n",
    "                    \"description\": \"Person's first name\",\n",
    "                },\n",
    "                \"last_name\": {\n",
    "                    \"type\": \"string\",\n",
    "                    \"description\": \"Person's last name\",\n",
    "                },\n",
    "            },\n",
    "            \"required\": [\"name, last_name\"],\n",
    "        },\n",
    "    },\n",
    "}"
   ]
  },
  {
   "cell_type": "code",
   "execution_count": 14,
   "metadata": {},
   "outputs": [
    {
     "name": "stdout",
     "output_type": "stream",
     "text": [
      "{'code': 0, 'msg': 'retrieve the data set (JSON) and answer the question. The question will change every time the task is called. I only ask about favourite colour, favourite food and place of residence', 'data': 'https://tasks.aidevs.pl/data/people.json', 'question': 'jaki kolor się podoba Mariuszowi Kaczorowi?', 'hint1': 'Does everything have to be handled by the language model?', 'hint2': 'prepare knowledge DB for this task'}\n"
     ]
    }
   ],
   "source": [
    "response = requests.post(\"https://tasks.aidevs.pl/token/people\", json=dict(apikey=AIDEVS_API_KEY))\n",
    "response_json = json.loads(response.text)\n",
    "token = response_json[\"token\"]\n",
    "\n",
    "response = requests.get(f\"https://tasks.aidevs.pl/task/{token}\")\n",
    "response_json = json.loads(response.text)\n",
    "question = response_json[\"question\"]\n",
    "print(response_json)"
   ]
  },
  {
   "cell_type": "code",
   "execution_count": 15,
   "metadata": {},
   "outputs": [
    {
     "name": "stdout",
     "output_type": "stream",
     "text": [
      "ChatCompletionMessage(content=None, role='assistant', function_call=None, tool_calls=[ChatCompletionMessageToolCall(id='call_ulnBf7oachczUsuMSQd7lvHl', function=Function(arguments='{\\n  \"name\": \"Mariusz\",\\n  \"last_name\": \"Kaczor\"\\n}', name='get_ulubiony_kolor_of_person'), type='function')])\n",
      "\n",
      "get_ulubiony_kolor_of_person\n",
      "{'name': 'Mariusz', 'last_name': 'Kaczor'}\n"
     ]
    }
   ],
   "source": [
    "completion = client.chat.completions.create(\n",
    "  model=\"gpt-4\",\n",
    "  messages=[\n",
    "    {\"role\": \"user\", \"content\": question}\n",
    "  ],\n",
    "  tools=[func_kapt_bomb_def, func_series_def, func_film_def, func_kapt_bomb_def],\n",
    "  tool_choice=\"auto\"\n",
    ")\n",
    "\n",
    "message = completion.choices[0].message\n",
    "print(message, end=\"\\n\\n\")\n",
    "if message.tool_calls:\n",
    "    func_name = message.tool_calls[0].function.name\n",
    "    func_args = json.loads(message.tool_calls[0].function.arguments)\n",
    "    print(func_name)\n",
    "    print(func_args)"
   ]
  },
  {
   "cell_type": "code",
   "execution_count": 16,
   "metadata": {},
   "outputs": [
    {
     "name": "stdout",
     "output_type": "stream",
     "text": [
      "koralowy\n"
     ]
    }
   ],
   "source": [
    "answer = functions[func_name](**func_args)\n",
    "print(answer)"
   ]
  },
  {
   "cell_type": "code",
   "execution_count": 17,
   "metadata": {},
   "outputs": [
    {
     "name": "stdout",
     "output_type": "stream",
     "text": [
      "{\n",
      "    \"code\": 0,\n",
      "    \"msg\": \"OK\",\n",
      "    \"note\": \"CORRECT\"\n",
      "}\n"
     ]
    }
   ],
   "source": [
    "response = requests.post(f\"https://tasks.aidevs.pl/answer/{token}\", json=dict(answer=answer))\n",
    "print(response.text)"
   ]
  }
 ],
 "metadata": {
  "kernelspec": {
   "display_name": "Python [conda env:ai-devs-2]",
   "language": "python",
   "name": "conda-env-ai-devs-2-py"
  },
  "language_info": {
   "codemirror_mode": {
    "name": "ipython",
    "version": 3
   },
   "file_extension": ".py",
   "mimetype": "text/x-python",
   "name": "python",
   "nbconvert_exporter": "python",
   "pygments_lexer": "ipython3",
   "version": "3.12.2"
  }
 },
 "nbformat": 4,
 "nbformat_minor": 4
}
