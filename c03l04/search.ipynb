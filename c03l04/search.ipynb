{
 "cells": [
  {
   "cell_type": "code",
   "execution_count": 1,
   "metadata": {},
   "outputs": [],
   "source": [
    "import asyncio\n",
    "import os\n",
    "import requests\n",
    "import json\n",
    "from dotenv import load_dotenv\n",
    "from time import sleep\n",
    "from typing import Any, Awaitable, Dict, List\n",
    "from openai import AsyncOpenAI\n",
    "from qdrant_client import AsyncQdrantClient, models"
   ]
  },
  {
   "cell_type": "code",
   "execution_count": 2,
   "metadata": {},
   "outputs": [],
   "source": [
    "load_dotenv()\n",
    "OPENAI_API_KEY = os.environ[\"OPENAI_API_KEY\"]\n",
    "AIDEVS_API_KEY = os.environ[\"AIDEVS_API_KEY\"]\n",
    "COLLECTION_NAME = \"links_archive\"\n",
    "VECTORS_DIM = 1536"
   ]
  },
  {
   "cell_type": "code",
   "execution_count": 3,
   "metadata": {},
   "outputs": [
    {
     "name": "stdout",
     "output_type": "stream",
     "text": [
      "\u001b[1A\u001b[1B\u001b[0G\u001b[?25l[+] Building 0.0s (0/0)                                    docker:desktop-linux\n",
      "\u001b[?25h\u001b[1A\u001b[1B\u001b[0G\u001b[?25l[+] Running 2/0\n",
      " \u001b[32m✔\u001b[0m Network c03l04_default  \u001b[32mCreated\u001b[0m                                         \u001b[34m0.0s \u001b[0m\n",
      " \u001b[32m✔\u001b[0m Container qdrant        \u001b[32mCreated\u001b[0m                                         \u001b[34m0.0s \u001b[0m\n",
      "\u001b[?25h\u001b[1A\u001b[1A\u001b[1A\u001b[0G\u001b[?25l\u001b[34m[+] Running 2/2\u001b[0m\n",
      " \u001b[32m✔\u001b[0m Network c03l04_default  \u001b[32mCreated\u001b[0m                                         \u001b[34m0.0s \u001b[0m\n",
      " \u001b[32m✔\u001b[0m Container qdrant        \u001b[32mCreated\u001b[0m                                         \u001b[34m0.0s \u001b[0m\n",
      "\u001b[?25h\u001b[1A\u001b[1A\u001b[1A\u001b[0G\u001b[?25l\u001b[34m[+] Running 2/2\u001b[0m\n",
      " \u001b[32m✔\u001b[0m Network c03l04_default  \u001b[32mCreated\u001b[0m                                         \u001b[34m0.0s \u001b[0m\n",
      " \u001b[32m✔\u001b[0m Container qdrant        \u001b[32mStarted\u001b[0m                                         \u001b[34m0.0s \u001b[0m\n",
      "\u001b[?25h"
     ]
    }
   ],
   "source": [
    "!docker-compose up -d"
   ]
  },
  {
   "cell_type": "code",
   "execution_count": 4,
   "metadata": {},
   "outputs": [],
   "source": [
    "openai_client = AsyncOpenAI(api_key=OPENAI_API_KEY)\n",
    "qdrant_client = AsyncQdrantClient(host=\"localhost\", port=\"6333\")"
   ]
  },
  {
   "cell_type": "code",
   "execution_count": 5,
   "metadata": {},
   "outputs": [
    {
     "name": "stdout",
     "output_type": "stream",
     "text": [
      "{'title': 'Demaskowanie kłamstw Devina - jak to było ze zleceniami z Upwork?', 'url': 'https://www.youtube.com/watch?v=tNmgmwEtoWE', 'info': 'INFO: Devin, zwany \"pierwszym, napędzanym przez AI, prawdziwym programistą\", nie działa do końca tak, jak to przedstawiono. Jego twórcy opublikowali film, w którym automat wykonuje zlecenia opublikowane na platformie Upwork i dostaje za nie pieniądze od zleceniodawców. Autor filmu, do którego linkują, rozłożył to nagranie reklamowe na części i przeanalizował je, momentami nawet klatka po klatce. Wyłowił, co Devin miał zrobić, a co naprawdę zrobił, i omówił, jak kiepsko mu to wyszło. Wygląda na to, że firma nie prezentuje do końca uczciwie możliwości swojego oprogramowania, wprowadzając użytkowników (i potencjalnych inwestorów) w błąd.', 'date': '2024-04-19'}\n",
      "\n",
      "7075\n"
     ]
    }
   ],
   "source": [
    "links_archive = []\n",
    "\n",
    "response = requests.post(\"https://unknow.news/archiwum.json\")\n",
    "links_archive += json.loads(response.content)\n",
    "\n",
    "response = requests.post(\"https://unknow.news/archiwum_aidevs.json\")\n",
    "links_archive += json.loads(response.content)\n",
    "\n",
    "print(links_archive[0], end=\"\\n\\n\")\n",
    "print(len(links_archive))"
   ]
  },
  {
   "cell_type": "code",
   "execution_count": 6,
   "metadata": {},
   "outputs": [],
   "source": [
    "async def aprep_vector_db(aclient: AsyncQdrantClient) -> Awaitable[None]:\n",
    "    exists = await aclient.collection_exists(COLLECTION_NAME)\n",
    "    if not exists:\n",
    "        await aclient.create_collection(\n",
    "            collection_name=COLLECTION_NAME,\n",
    "            vectors_config=models.VectorParams(\n",
    "                size=VECTORS_DIM,\n",
    "                distance=models.Distance.COSINE,\n",
    "            ),\n",
    "        )"
   ]
  },
  {
   "cell_type": "code",
   "execution_count": 7,
   "metadata": {},
   "outputs": [],
   "source": [
    "async def aprep_vector_point(aclient: AsyncOpenAI, idx: int, doc: Dict) -> Awaitable[models.PointStruct]:\n",
    "    input = doc[\"info\"][6:]\n",
    "    response = await aclient.embeddings.create(\n",
    "        input=input,\n",
    "        model=\"text-embedding-ada-002\"\n",
    "    )\n",
    "    return models.PointStruct(\n",
    "        id=idx, vector=response.data[0].embedding, payload=doc\n",
    "    )"
   ]
  },
  {
   "cell_type": "code",
   "execution_count": 8,
   "metadata": {},
   "outputs": [],
   "source": [
    "async def main() -> Awaitable[bool]:\n",
    "    await aprep_vector_db(qdrant_client)\n",
    "\n",
    "    # Due to rate limits for text-embedding-ada-002 we need to split archives into smaller chunks   \n",
    "    vc_points: List[models.PointStruct] = []\n",
    "    i_prev = 0\n",
    "    last = len(links_archive)\n",
    "    step = 500\n",
    "    for i in range (0, last, step):\n",
    "        if i == 0:\n",
    "            continue\n",
    "        \n",
    "        print(f\"Getting embeddings for docs from index {i_prev} to {i}\")\n",
    "        chunk = links_archive[i_prev:i]\n",
    "        vc_point_tasks = [aprep_vector_point(openai_client, idx, doc) for idx, doc in enumerate(chunk)]\n",
    "        vc_points += await asyncio.gather(*vc_point_tasks)\n",
    "        \n",
    "        i_prev = i\n",
    "        sleep(10)\n",
    "        \n",
    "        if last - i < step:\n",
    "            print(f\"Getting embeddings for last docs\")\n",
    "            chunk = links_archive[i:last+1]\n",
    "            vc_point_tasks = [aprep_vector_point(openai_client, idx, doc) for idx, doc in enumerate(chunk)]\n",
    "            vc_points += await asyncio.gather(*vc_point_tasks)\n",
    "    \n",
    "    await qdrant_client.upload_points(COLLECTION_NAME, points=vc_points)\n",
    "    return True"
   ]
  },
  {
   "cell_type": "code",
   "execution_count": 9,
   "metadata": {},
   "outputs": [
    {
     "name": "stdout",
     "output_type": "stream",
     "text": [
      "Getting embeddings for docs from index 0 to 500\n",
      "Getting embeddings for docs from index 500 to 1000\n",
      "Getting embeddings for docs from index 1000 to 1500\n",
      "Getting embeddings for docs from index 1500 to 2000\n",
      "Getting embeddings for docs from index 2000 to 2500\n",
      "Getting embeddings for docs from index 2500 to 3000\n",
      "Getting embeddings for docs from index 3000 to 3500\n",
      "Getting embeddings for docs from index 3500 to 4000\n",
      "Getting embeddings for docs from index 4000 to 4500\n",
      "Getting embeddings for docs from index 4500 to 5000\n",
      "Getting embeddings for docs from index 5000 to 5500\n",
      "Getting embeddings for docs from index 5500 to 6000\n",
      "Getting embeddings for docs from index 6000 to 6500\n",
      "Getting embeddings for docs from index 6500 to 7000\n",
      "Getting embeddings for last docs\n",
      "Main loop returned: True\n"
     ]
    }
   ],
   "source": [
    "loop = asyncio.get_event_loop()\n",
    "# loop.create_task(main())\n",
    "coroutine = asyncio.run_coroutine_threadsafe(main(), loop)\n",
    "coroutine.add_done_callback(lambda x: print(f\"Main loop returned: {x.result()}\"))"
   ]
  },
  {
   "cell_type": "code",
   "execution_count": 10,
   "metadata": {},
   "outputs": [],
   "source": [
    "#### BELOW INSTRUCTIONS CAN BE EXECUTED ONLY IF THERE IS DATA IN THE VECTOR DB ####"
   ]
  },
  {
   "cell_type": "code",
   "execution_count": 11,
   "metadata": {},
   "outputs": [],
   "source": [
    "async def test() -> Awaitable[None]:\n",
    "    response = await openai_client.embeddings.create(\n",
    "        input=\"Co różni pseudonimizację od anonimizowania danych?\",\n",
    "        model=\"text-embedding-ada-002\"\n",
    "    )\n",
    "    test_query = response.data[0].embedding\n",
    "\n",
    "    hits = await qdrant_client.search(collection_name=COLLECTION_NAME, query_vector=test_query, limit=3)\n",
    "    for hit in hits:\n",
    "        print(f\"title: {hit.payload[\"title\"]}, url: {hit.payload[\"url\"]}, score: {hit.score}\")"
   ]
  },
  {
   "cell_type": "code",
   "execution_count": 12,
   "metadata": {},
   "outputs": [
    {
     "name": "stdout",
     "output_type": "stream",
     "text": [
      "title: Czym się różni pseudonimizacja od anonimizacji? (film, 46 minut), url: https://www.internet-czas-dzialac.pl/pseudonimizacja-a-anonimizacja/, score: 0.89958835\n",
      "title: Jak śledzą nas strony internetowe partii politycznych? [Wybory 2023], url: https://www.internet-czas-dzialac.pl/wybory-2023-jak-partie-polityczne-szanuja-twoja-prywatnosc-na-swoich-stronach-internetowych/, score: 0.85214186\n",
      "title: Społeczne oziębienie - efekt uboczny Big Data, url: https://www.socialcooling.com/, score: 0.84547544\n",
      "Test loop returned: None\n"
     ]
    }
   ],
   "source": [
    "loop = asyncio.get_event_loop()\n",
    "coroutine = asyncio.run_coroutine_threadsafe(test(), loop)\n",
    "coroutine.add_done_callback(lambda x: print(f\"Test loop returned: {x.result()}\"))"
   ]
  },
  {
   "cell_type": "code",
   "execution_count": 13,
   "metadata": {},
   "outputs": [
    {
     "name": "stdout",
     "output_type": "stream",
     "text": [
      "{'code': 0, 'msg': 'Index all data from provided URL into vecto store and provide answer to my question - https://unknow.news/archiwum_aidevs.json', 'question': 'Co różni pseudonimizację od anonimizowania danych?'}\n"
     ]
    }
   ],
   "source": [
    "response = requests.post(\"https://tasks.aidevs.pl/token/search\", json=dict(apikey=AIDEVS_API_KEY))\n",
    "response_json = json.loads(response.text)\n",
    "token = response_json[\"token\"]\n",
    "\n",
    "response = requests.get(f\"https://tasks.aidevs.pl/task/{token}\")\n",
    "response_json = json.loads(response.text)\n",
    "\n",
    "print(response_json)\n",
    "question = response_json[\"question\"]\n",
    "answer = \"\""
   ]
  },
  {
   "cell_type": "code",
   "execution_count": 14,
   "metadata": {},
   "outputs": [],
   "source": [
    "async def task() -> Awaitable[str]:\n",
    "    global question\n",
    "    global answer\n",
    "    response = await openai_client.embeddings.create(\n",
    "        input=question,\n",
    "        model=\"text-embedding-ada-002\"\n",
    "    )\n",
    "    question_query = response.data[0].embedding\n",
    "\n",
    "    hits = await qdrant_client.search(collection_name=COLLECTION_NAME, query_vector=question_query, limit=3)\n",
    "    \n",
    "    answer = [hit.payload[\"url\"] for hit in hits]\n",
    "    return [f\"title: {hit.payload[\"title\"]}, url: {hit.payload[\"url\"]}\" for hit in hits]"
   ]
  },
  {
   "cell_type": "code",
   "execution_count": 15,
   "metadata": {},
   "outputs": [
    {
     "name": "stdout",
     "output_type": "stream",
     "text": [
      "Task loop returned: ['title: Czym się różni pseudonimizacja od anonimizacji? (film, 46 minut), url: https://www.internet-czas-dzialac.pl/pseudonimizacja-a-anonimizacja/', 'title: Jak śledzą nas strony internetowe partii politycznych? [Wybory 2023], url: https://www.internet-czas-dzialac.pl/wybory-2023-jak-partie-polityczne-szanuja-twoja-prywatnosc-na-swoich-stronach-internetowych/', 'title: Społeczne oziębienie - efekt uboczny Big Data, url: https://www.socialcooling.com/']\n"
     ]
    }
   ],
   "source": [
    "loop = asyncio.get_event_loop()\n",
    "coroutine = asyncio.run_coroutine_threadsafe(task(), loop)\n",
    "coroutine.add_done_callback(lambda x: print(f\"Task loop returned: {x.result()}\"))"
   ]
  },
  {
   "cell_type": "code",
   "execution_count": 16,
   "metadata": {},
   "outputs": [
    {
     "name": "stdout",
     "output_type": "stream",
     "text": [
      "{'code': 0, 'msg': 'OK', 'note': 'CORRECT'}\n"
     ]
    }
   ],
   "source": [
    "for possible_answer in answer:\n",
    "    response = requests.post(f\"https://tasks.aidevs.pl/answer/{token}\", json=dict(answer=possible_answer))\n",
    "    response_json = json.loads(response.content)\n",
    "    if response_json[\"code\"] == 0:\n",
    "        print(response_json)\n",
    "        break"
   ]
  },
  {
   "cell_type": "code",
   "execution_count": 17,
   "metadata": {},
   "outputs": [
    {
     "name": "stdout",
     "output_type": "stream",
     "text": [
      "\u001b[1A\u001b[1B\u001b[0G\u001b[?25l[+] Running 0/0\n",
      " ⠋ Container qdrant  Stopping                                              \u001b[34m0.1s \u001b[0m\n",
      "\u001b[?25h\u001b[1A\u001b[1A\u001b[0G\u001b[?25l\u001b[34m[+] Running 1/1\u001b[0m\n",
      " \u001b[32m✔\u001b[0m Container qdrant        \u001b[32mRemoved\u001b[0m                                         \u001b[34m0.1s \u001b[0m\n",
      " ⠋ Network c03l04_default  Removing                                        \u001b[34m0.0s \u001b[0m\n",
      "\u001b[?25h\u001b[1A\u001b[1A\u001b[1A\u001b[0G\u001b[?25l\u001b[34m[+] Running 2/2\u001b[0m\n",
      " \u001b[32m✔\u001b[0m Container qdrant        \u001b[32mRemoved\u001b[0m                                         \u001b[34m0.1s \u001b[0m\n",
      " \u001b[32m✔\u001b[0m Network c03l04_default  \u001b[32mRemoved\u001b[0m                                         \u001b[34m0.1s \u001b[0m\n",
      "\u001b[?25h"
     ]
    }
   ],
   "source": [
    "!docker-compose down -v"
   ]
  }
 ],
 "metadata": {
  "kernelspec": {
   "display_name": "Python [conda env:ai-devs-2]",
   "language": "python",
   "name": "conda-env-ai-devs-2-py"
  },
  "language_info": {
   "codemirror_mode": {
    "name": "ipython",
    "version": 3
   },
   "file_extension": ".py",
   "mimetype": "text/x-python",
   "name": "python",
   "nbconvert_exporter": "python",
   "pygments_lexer": "ipython3",
   "version": "3.12.2"
  }
 },
 "nbformat": 4,
 "nbformat_minor": 4
}
