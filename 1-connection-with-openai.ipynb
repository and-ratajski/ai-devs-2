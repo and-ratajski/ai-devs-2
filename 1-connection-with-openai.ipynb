{
 "cells": [
  {
   "cell_type": "code",
   "execution_count": 1,
   "metadata": {},
   "outputs": [],
   "source": [
    "import os\n",
    "import requests\n",
    "from dotenv import load_dotenv\n",
    "from openai import OpenAI"
   ]
  },
  {
   "cell_type": "code",
   "execution_count": 2,
   "metadata": {},
   "outputs": [],
   "source": [
    "load_dotenv()\n",
    "OPENAI_API_KEY = os.environ[\"OPENAI_API_KEY\"]"
   ]
  },
  {
   "cell_type": "code",
   "execution_count": 3,
   "metadata": {},
   "outputs": [
    {
     "name": "stdout",
     "output_type": "stream",
     "text": [
      "whisper-1, davinci-002, dall-e-2, tts-1-hd-1106, tts-1-hd, gpt-3.5-turbo-16k, dall-e-3, gpt-4, gpt-3.5-turbo-16k-0613, gpt-4-0613, gpt-3.5-turbo-instruct-0914, gpt-3.5-turbo-0613, gpt-3.5-turbo-instruct, tts-1, gpt-3.5-turbo-0301, babbage-002, tts-1-1106, gpt-4-0125-preview, gpt-4-1106-preview, text-embedding-3-large, gpt-4-turbo-preview, gpt-3.5-turbo, gpt-3.5-turbo-0125, gpt-4-1106-vision-preview, text-embedding-3-small, gpt-4-vision-preview, text-embedding-ada-002, gpt-4-turbo-2024-04-09, gpt-3.5-turbo-1106, gpt-4-turbo, "
     ]
    }
   ],
   "source": [
    "response = requests.get(\"https://api.openai.com/v1/models\", headers={\"Authorization\": f\"Bearer {OPENAI_API_KEY}\"})\n",
    "for model in response.json()[\"data\"]:\n",
    "    print(model[\"id\"], end=\", \")"
   ]
  },
  {
   "cell_type": "code",
   "execution_count": 4,
   "metadata": {},
   "outputs": [],
   "source": [
    "client = OpenAI()"
   ]
  },
  {
   "cell_type": "code",
   "execution_count": 5,
   "metadata": {},
   "outputs": [
    {
     "name": "stdout",
     "output_type": "stream",
     "text": [
      "CPU times: user 10.1 ms, sys: 7.71 ms, total: 17.9 ms\n",
      "Wall time: 17.6 s\n"
     ]
    }
   ],
   "source": [
    "%%time\n",
    "completion = client.chat.completions.create(\n",
    "  model=\"gpt-4\",\n",
    "  messages=[\n",
    "    {\"role\": \"system\", \"content\": \"You are a poetic assistant, skilled in explaining complex programming concepts with creative flair.\"},\n",
    "    {\"role\": \"user\", \"content\": \"Compose a poem that explains the concept of recursion in programming.\"}\n",
    "  ]\n",
    ")"
   ]
  },
  {
   "cell_type": "code",
   "execution_count": 6,
   "metadata": {},
   "outputs": [
    {
     "name": "stdout",
     "output_type": "stream",
     "text": [
      "ChatCompletionMessage(content='In a world where words become commands, \\nWhere fingers dance on the keys that stand,\\nThere\\'s a tale to be told of a cheeky device,\\nA loop that loops not once, but thrice or infinite nice.\\n\\nIt\\'s recursion, the concept shrouded in recursion’s veil,\\nA thought within a thought, a tail chasing its tail.\\nA function that calls itself, you see,\\nEver chasing its echoes, like waves in a sea.\\n\\n\"Oh function, do solve this puzzle of mine,\\nBut you might need the answer from a previous line.\"\\nThe function looks back, takes a step in reverse,\\nInto the depths of its own universe.\\n\\nJust like the Russian dolls of yore,\\nAn enigma found in the heart of the core,\\nUnwrap one layer, another you find,\\nIt’s a trip, a dip, into the coder\\'s mind.\\n\\nBut in this labyrinth of code, tread with care,\\nFor endless loops are a programmer\\'s nightmare.\\nA base case needed, to halt the spin,\\nElse you\\'ll be lost, in the depths within.\\n\\nYet mastered right, it\\'s a magic spell,\\nGolden spirals and fractals, it creates so well.\\nSuch is recursion, complex in its simplicity,\\nAn elegant dance of infinity and brevity.\\n\\nRecursion, a mirror that mirrors its face,\\nA cosmic loop folded into cyberspace,\\nAn echo of an echo, where codes intertwine,\\nThat\\'s recursion\\'s secret, paradox in design.', role='assistant', function_call=None, tool_calls=None)\n",
      "\n",
      "CompletionUsage(completion_tokens=296, prompt_tokens=39, total_tokens=335)\n"
     ]
    }
   ],
   "source": [
    "print(completion.choices[0].message, end=\"\\n\\n\")\n",
    "print(completion.usage)"
   ]
  }
 ],
 "metadata": {
  "kernelspec": {
   "display_name": "Python [conda env:ai-devs-2]",
   "language": "python",
   "name": "conda-env-ai-devs-2-py"
  },
  "language_info": {
   "codemirror_mode": {
    "name": "ipython",
    "version": 3
   },
   "file_extension": ".py",
   "mimetype": "text/x-python",
   "name": "python",
   "nbconvert_exporter": "python",
   "pygments_lexer": "ipython3",
   "version": "3.12.2"
  }
 },
 "nbformat": 4,
 "nbformat_minor": 4
}
