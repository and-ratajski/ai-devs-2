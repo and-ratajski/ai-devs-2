{
 "cells": [
  {
   "cell_type": "code",
   "execution_count": 1,
   "metadata": {},
   "outputs": [],
   "source": [
    "import os\n",
    "import requests\n",
    "from dotenv import load_dotenv\n",
    "from openai import OpenAI"
   ]
  },
  {
   "cell_type": "code",
   "execution_count": 33,
   "metadata": {},
   "outputs": [],
   "source": [
    "load_dotenv()\n",
    "OPENAI_API_KEY = os.environ[\"OPENAI_API_KEY\"]"
   ]
  },
  {
   "cell_type": "code",
   "execution_count": 32,
   "metadata": {},
   "outputs": [
    {
     "name": "stdout",
     "output_type": "stream",
     "text": [
      "gpt-3.5-turbo-1106, gpt-4-0613, dall-e-2, gpt-3.5-turbo-0125, gpt-4, whisper-1, tts-1-hd-1106, gpt-3.5-turbo, tts-1-hd, gpt-4-vision-preview, text-embedding-3-large, gpt-3.5-turbo-16k-0613, gpt-3.5-turbo-0301, gpt-3.5-turbo-16k, gpt-4-1106-vision-preview, gpt-4-1106-preview, gpt-3.5-turbo-instruct, gpt-3.5-turbo-instruct-0914, dall-e-3, tts-1, davinci-002, babbage-002, tts-1-1106, gpt-4-0125-preview, gpt-4-turbo-preview, gpt-3.5-turbo-0613, text-embedding-ada-002, text-embedding-3-small, "
     ]
    }
   ],
   "source": [
    "response = requests.get(\"https://api.openai.com/v1/models\", headers={\"Authorization\": f\"Bearer {OPENAI_API_KEY}\"})\n",
    "for model in response.json()[\"data\"]:\n",
    "    print(model[\"id\"], end=\", \")"
   ]
  },
  {
   "cell_type": "code",
   "execution_count": 3,
   "metadata": {},
   "outputs": [],
   "source": [
    "client = OpenAI()"
   ]
  },
  {
   "cell_type": "code",
   "execution_count": 21,
   "metadata": {},
   "outputs": [
    {
     "name": "stdout",
     "output_type": "stream",
     "text": [
      "CPU times: user 16 ms, sys: 2.89 ms, total: 18.9 ms\n",
      "Wall time: 17.8 s\n"
     ]
    }
   ],
   "source": [
    "%%time\n",
    "completion = client.chat.completions.create(\n",
    "  model=\"gpt-4\",\n",
    "  messages=[\n",
    "    {\"role\": \"system\", \"content\": \"You are a poetic assistant, skilled in explaining complex programming concepts with creative flair.\"},\n",
    "    {\"role\": \"user\", \"content\": \"Compose a poem that explains the concept of recursion in programming.\"}\n",
    "  ]\n",
    ")"
   ]
  },
  {
   "cell_type": "code",
   "execution_count": 38,
   "metadata": {},
   "outputs": [
    {
     "name": "stdout",
     "output_type": "stream",
     "text": [
      "ChatCompletionMessage(content=\"In the realm of code, where logic holds reign,\\nThere's a concept called recursion, a curious domain,\\nLike nesting of dolls or reflection of mirrors,\\nIt appears and repeats, sparking both joys and terrors.\\n\\nA function it starts, so innocent, so tame,\\nBut within its body, it calls its own name,\\nA loop without end, you might first believe,\\nBut therein lies the trick, a web it does weave.\\n\\nFor each time it calls, a condition is set,\\nA base to be met, an exit to beget,\\nAnd so it dives deep, this function, so brave,\\nSaving states on a stack, each step that it gave.\\n\\nIt solves smaller pieces of a larger equation,\\nBreaking it down, with diligent persuasion,\\nEach call to itself, a step closer to solution,\\nThrough layers of itself, it seeks resolution.\\n\\nMirror in mirror in mirror, to an end unseen,\\nA labyrinthine journey, where it's already been,\\nWhere does it begin, and where will it end?\\nThat's the magic of recursion, my dear programming friend.\\n\\nLike a mythical dragon eating its tail,\\nA Fibonacci sequence, a recursive sail,\\nIt calls and returns, until the end is in sight,\\nThen it unrolls the answers, in a cascade of light.\\n\\nSo fret not at recursion, the code's labyrinth dance,\\nIt's a powerful tool, when given a chance. \\nLook not at its mystery, but rather its grace,\\nIn the heart of complexity, it carves out its space.\", role='assistant', function_call=None, tool_calls=None)\n",
      "\n",
      "CompletionUsage(completion_tokens=305, prompt_tokens=39, total_tokens=344)\n"
     ]
    }
   ],
   "source": [
    "print(completion.choices[0].message, end=\"\\n\\n\")\n",
    "print(completion.usage)"
   ]
  }
 ],
 "metadata": {
  "kernelspec": {
   "display_name": "Python [conda env:ai-devs-2]",
   "language": "python",
   "name": "conda-env-ai-devs-2-py"
  },
  "language_info": {
   "codemirror_mode": {
    "name": "ipython",
    "version": 3
   },
   "file_extension": ".py",
   "mimetype": "text/x-python",
   "name": "python",
   "nbconvert_exporter": "python",
   "pygments_lexer": "ipython3",
   "version": "3.12.2"
  }
 },
 "nbformat": 4,
 "nbformat_minor": 4
}
