{
 "cells": [
  {
   "cell_type": "code",
   "execution_count": 1,
   "metadata": {},
   "outputs": [],
   "source": [
    "import os\n",
    "import requests\n",
    "import json\n",
    "from dotenv import load_dotenv\n",
    "from openai import OpenAI"
   ]
  },
  {
   "cell_type": "code",
   "execution_count": 2,
   "metadata": {},
   "outputs": [],
   "source": [
    "load_dotenv()\n",
    "OPENAI_API_KEY = os.environ[\"OPENAI_API_KEY\"]\n",
    "AIDEVS_API_KEY = os.environ[\"AIDEVS_API_KEY\"]"
   ]
  },
  {
   "cell_type": "code",
   "execution_count": 3,
   "metadata": {},
   "outputs": [],
   "source": [
    "client = OpenAI()"
   ]
  },
  {
   "cell_type": "code",
   "execution_count": 4,
   "metadata": {},
   "outputs": [
    {
     "name": "stdout",
     "output_type": "stream",
     "text": [
      "[{'currency': 'bat (Tajlandia)', 'code': 'THB', 'mid': 0.109}, {'currency': 'dolar amerykański', 'code': 'USD', 'mid': 4.0245}, {'currency': 'dolar australijski', 'code': 'AUD', 'mid': 2.6353}, {'currency': 'dolar Hongkongu', 'code': 'HKD', 'mid': 0.5141}, {'currency': 'dolar kanadyjski', 'code': 'CAD', 'mid': 2.9492}, {'currency': 'dolar nowozelandzki', 'code': 'NZD', 'mid': 2.3989}, {'currency': 'dolar singapurski', 'code': 'SGD', 'mid': 2.9598}, {'currency': 'euro', 'code': 'EUR', 'mid': 4.3225}, {'currency': 'forint (Węgry)', 'code': 'HUF', 'mid': 0.011002}, {'currency': 'frank szwajcarski', 'code': 'CHF', 'mid': 4.4145}, {'currency': 'funt szterling', 'code': 'GBP', 'mid': 5.0414}, {'currency': 'hrywna (Ukraina)', 'code': 'UAH', 'mid': 0.1016}, {'currency': 'jen (Japonia)', 'code': 'JPY', 'mid': 0.025711}, {'currency': 'korona czeska', 'code': 'CZK', 'mid': 0.1719}, {'currency': 'korona duńska', 'code': 'DKK', 'mid': 0.5796}, {'currency': 'korona islandzka', 'code': 'ISK', 'mid': 0.028797}, {'currency': 'korona norweska', 'code': 'NOK', 'mid': 0.3669}, {'currency': 'korona szwedzka', 'code': 'SEK', 'mid': 0.3703}, {'currency': 'lej rumuński', 'code': 'RON', 'mid': 0.8685}, {'currency': 'lew (Bułgaria)', 'code': 'BGN', 'mid': 2.21}, {'currency': 'lira turecka', 'code': 'TRY', 'mid': 0.1239}, {'currency': 'nowy izraelski szekel', 'code': 'ILS', 'mid': 1.054}, {'currency': 'peso chilijskie', 'code': 'CLP', 'mid': 0.004238}, {'currency': 'peso filipińskie', 'code': 'PHP', 'mid': 0.0698}, {'currency': 'peso meksykańskie', 'code': 'MXN', 'mid': 0.2334}, {'currency': 'rand (Republika Południowej Afryki)', 'code': 'ZAR', 'mid': 0.2121}, {'currency': 'real (Brazylia)', 'code': 'BRL', 'mid': 0.78}, {'currency': 'ringgit (Malezja)', 'code': 'MYR', 'mid': 0.8441}, {'currency': 'rupia indonezyjska', 'code': 'IDR', 'mid': 0.00024826}, {'currency': 'rupia indyjska', 'code': 'INR', 'mid': 0.0483}, {'currency': 'won południowokoreański', 'code': 'KRW', 'mid': 0.002925}, {'currency': 'yuan renminbi (Chiny)', 'code': 'CNY', 'mid': 0.5554}, {'currency': 'SDR (MFW)', 'code': 'XDR', 'mid': 5.3143}]\n"
     ]
    }
   ],
   "source": [
    "# First, check if the endpoint exists\n",
    "response = requests.get(\"https://api.nbp.pl/api/exchangerates/tables/A/\")\n",
    "response_json = json.loads(response.text)\n",
    "print(response_json[0][\"rates\"])\n",
    "\n",
    "def get_exchange_rate(currency_name: str) -> float:\n",
    "    response = requests.get(\"https://api.nbp.pl/api/exchangerates/tables/A/\")\n",
    "    response_json = json.loads(response.text)\n",
    "    rates = response_json[0][\"rates\"]\n",
    "    mids = [rate[\"mid\"] for rate in rates if rate[\"currency\"] == currency_name]\n",
    "    \n",
    "    if not mids:\n",
    "        raise Exception(f\"Couldn't find any exchange rates for currency: {currency_name}\")\n",
    "    return mids[0]\n",
    "\n",
    "get_exchange_rate_def = {\n",
    "    \"type\": \"function\",\n",
    "    \"function\": {\n",
    "        \"name\": \"get_exchange_rate\",\n",
    "        \"description\": \"Returns exchange rate for a given currency in relation to PLN\",\n",
    "        \"parameters\": {\n",
    "            \"type\": \"object\",\n",
    "            \"properties\": {\n",
    "                \"currency_name\": {\n",
    "                    \"type\": \"string\",\n",
    "                    \"description\": \"Currency name in Polish in lowercase.\",\n",
    "                },\n",
    "            },\n",
    "            \"required\": [\"currency_name\"],\n",
    "        },\n",
    "    },\n",
    "}"
   ]
  },
  {
   "cell_type": "code",
   "execution_count": 5,
   "metadata": {},
   "outputs": [
    {
     "name": "stdout",
     "output_type": "stream",
     "text": [
      "[{'name': {'common': 'Poland', 'official': 'Republic of Poland', 'nativeName': {'pol': {'official': 'Rzeczpospolita Polska', 'common': 'Polska'}}}, 'currencies': {'PLN': {'name': 'Polish złoty', 'symbol': 'zł'}}, 'population': 37950802}]\n"
     ]
    }
   ],
   "source": [
    "# First, check if the endpoint exists\n",
    "response = requests.get(\"https://restcountries.com/v3.1/name/poland?fields=name,currencies,population\")\n",
    "response_json = json.loads(response.text)\n",
    "print(response_json)\n",
    "\n",
    "def get_country_population(country_name: str) -> int:\n",
    "    response = requests.get(f\"https://restcountries.com/v3.1/name/{country_name}?fields=name,currencies,population\")\n",
    "    response_json = json.loads(response.text)\n",
    "    return response_json[0][\"population\"]\n",
    "\n",
    "get_country_population_def = {\n",
    "    \"type\": \"function\",\n",
    "    \"function\": {\n",
    "        \"name\": \"get_country_population\",\n",
    "        \"description\": \"Returns country's population\",\n",
    "        \"parameters\": {\n",
    "            \"type\": \"object\",\n",
    "            \"properties\": {\n",
    "                \"country_name\": {\n",
    "                    \"type\": \"string\",\n",
    "                    \"description\": \"Country name in English in lowercase.\",\n",
    "                },\n",
    "            },\n",
    "            \"required\": [\"country_name\"],\n",
    "        },\n",
    "    },\n",
    "}"
   ]
  },
  {
   "cell_type": "code",
   "execution_count": 6,
   "metadata": {},
   "outputs": [],
   "source": [
    "functions = {\n",
    "    \"get_exchange_rate\": get_exchange_rate,\n",
    "    \"get_country_population\": get_country_population\n",
    "}"
   ]
  },
  {
   "cell_type": "code",
   "execution_count": 7,
   "metadata": {},
   "outputs": [
    {
     "name": "stdout",
     "output_type": "stream",
     "text": [
      "{'code': 0, 'msg': 'I will ask you a question about the exchange rate, the current population or general knowledge. Decide whether you will take your knowledge from external sources or from the knowledge of the model', 'question': 'ile orientacyjnie ludzi mieszka w Polsce?', 'database #1': 'Currency http://api.nbp.pl/en.html (use table A)', 'database #2': \"Knowledge about countries https://restcountries.com/ - field 'population'\"}\n"
     ]
    }
   ],
   "source": [
    "response = requests.post(\"https://tasks.aidevs.pl/token/knowledge\", json=dict(apikey=AIDEVS_API_KEY))\n",
    "response_json = json.loads(response.text)\n",
    "token = response_json[\"token\"]\n",
    "\n",
    "response = requests.get(f\"https://tasks.aidevs.pl/task/{token}\")\n",
    "response_json = json.loads(response.text)\n",
    "print(response_json)\n",
    "question = response_json[\"question\"]"
   ]
  },
  {
   "cell_type": "code",
   "execution_count": 8,
   "metadata": {},
   "outputs": [],
   "source": [
    "system_context_agent = \"\"\"\n",
    "You are an agent that decides whether the given question is about currency exchange rate or country's current population.\n",
    "If the question doesn't match any of this categories you simply return \"general\". So the only allowed values you can return\n",
    "are 'exchange', 'population' or 'general'.\n",
    "\n",
    "### Example 1\n",
    "User: ile orientacyjnie ludzi mieszka w Polsce?\n",
    "Asistant: 'population'\n",
    "\n",
    "### Example 2\n",
    "User: jak nazywa się stolica Macedonii Pólnocnej?\n",
    "Asistant: 'general'\n",
    "\n",
    "### Example 3\n",
    "User: aktualny kurs Franka Szwajcarskiego\n",
    "Asistant: 'exchange'\n",
    "\"\"\"\n",
    "\n",
    "system_context_general = \"\"\"\n",
    "You are an agent specialized in answering general questions in most concise way possible. It means you return only\n",
    "the answer to given question and nothing more.\n",
    "\n",
    "### Example 2\n",
    "User: jak nazywa się stolica Macedonii Pólnocnej?\n",
    "Asistant: Skopje\n",
    "\"\"\""
   ]
  },
  {
   "cell_type": "code",
   "execution_count": 9,
   "metadata": {},
   "outputs": [
    {
     "name": "stdout",
     "output_type": "stream",
     "text": [
      "'population'\n"
     ]
    }
   ],
   "source": [
    "completion = client.chat.completions.create(\n",
    "  model=\"gpt-4\",\n",
    "  messages=[\n",
    "    {\"role\": \"system\", \"content\": system_context_agent},\n",
    "    {\"role\": \"user\", \"content\": question}\n",
    "  ]\n",
    ")\n",
    "\n",
    "question_type = str(completion.choices[0].message.content)\n",
    "print(question_type)"
   ]
  },
  {
   "cell_type": "code",
   "execution_count": 10,
   "metadata": {},
   "outputs": [
    {
     "name": "stdout",
     "output_type": "stream",
     "text": [
      "get_country_population\n",
      "{'country_name': 'poland'}\n",
      "\n",
      "37950802\n"
     ]
    }
   ],
   "source": [
    "if question_type == \"'general'\":\n",
    "    completion = client.chat.completions.create(\n",
    "      model=\"gpt-4\",\n",
    "      messages=[\n",
    "        {\"role\": \"system\", \"content\": system_context_general},\n",
    "        {\"role\": \"user\", \"content\": question}\n",
    "      ]\n",
    "    )\n",
    "\n",
    "    answer = str(completion.choices[0].message.content)\n",
    "    print(answer)\n",
    "else:\n",
    "    completion = client.chat.completions.create(\n",
    "      model=\"gpt-4\",\n",
    "      messages=[\n",
    "        {\"role\": \"user\", \"content\": question}\n",
    "      ],\n",
    "      tools=[get_exchange_rate_def, get_country_population_def],\n",
    "      tool_choice=\"auto\",\n",
    "    )\n",
    "\n",
    "    message = completion.choices[0].message\n",
    "    if message.tool_calls:\n",
    "        func_name = message.tool_calls[0].function.name\n",
    "        func_args = json.loads(message.tool_calls[0].function.arguments)\n",
    "        print(func_name)\n",
    "        print(func_args, end=\"\\n\\n\")\n",
    "        \n",
    "        answer = functions[func_name](**func_args)\n",
    "        print(answer)\n",
    "    else:\n",
    "        print(f\"No tool_calls in function calling response: {message}\")"
   ]
  },
  {
   "cell_type": "code",
   "execution_count": 11,
   "metadata": {},
   "outputs": [
    {
     "name": "stdout",
     "output_type": "stream",
     "text": [
      "{\n",
      "    \"code\": 0,\n",
      "    \"msg\": \"OK\",\n",
      "    \"note\": \"CORRECT\"\n",
      "}\n"
     ]
    }
   ],
   "source": [
    "response = requests.post(f\"https://tasks.aidevs.pl/answer/{token}\", json=dict(answer=answer))\n",
    "print(response.text)"
   ]
  }
 ],
 "metadata": {
  "kernelspec": {
   "display_name": "Python [conda env:ai-devs-2]",
   "language": "python",
   "name": "conda-env-ai-devs-2-py"
  },
  "language_info": {
   "codemirror_mode": {
    "name": "ipython",
    "version": 3
   },
   "file_extension": ".py",
   "mimetype": "text/x-python",
   "name": "python",
   "nbconvert_exporter": "python",
   "pygments_lexer": "ipython3",
   "version": "3.12.2"
  }
 },
 "nbformat": 4,
 "nbformat_minor": 4
}
