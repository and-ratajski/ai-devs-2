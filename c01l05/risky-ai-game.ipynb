{
 "cells": [
  {
   "cell_type": "code",
   "execution_count": 84,
   "id": "cbe18fe0",
   "metadata": {},
   "outputs": [],
   "source": [
    "import requests\n",
    "import json"
   ]
  },
  {
   "cell_type": "code",
   "execution_count": 89,
   "id": "27a6d22a",
   "metadata": {},
   "outputs": [
    {
     "name": "stdout",
     "output_type": "stream",
     "text": [
      "{'code': 0, 'msg': 'OK', 'token': 'e16edb2a94bb2ee62417a82302f2878f81dfa89b'}\n"
     ]
    }
   ],
   "source": [
    "response = requests.post(\"https://tasks.aidevs.pl/token/helloapi\", json=dict(apikey=\"9b5af73f-f702-47f7-9bf8-6fa0c23d9803\"))\n",
    "response_json = json.loads(response.text)\n",
    "token = response_json[\"token\"]\n",
    "\n",
    "response = requests.get(f\"https://tasks.aidevs.pl/task/{token}\")\n",
    "print(response_json)\n",
    "\n",
    "# response = requests.post(f\"https://tasks.aidevs.pl/answer/{token}\", json=dict(answer=\"Hello\"))\n",
    "# print(response.text)"
   ]
  },
  {
   "cell_type": "code",
   "execution_count": 71,
   "id": "f3ece53d",
   "metadata": {},
   "outputs": [
    {
     "name": "stdout",
     "output_type": "stream",
     "text": [
      "Strona, którą opisujesz, wydaje się być związana z kursem o nazwie \"AI Devs – Programowanie w parze z AI\". Jest to kurs trwający przez 5 tygodni, który skupia się na praktycznym wykorzystaniu narzędzi związanych z Generative AI, szczególnie modeli opracowanych przez OpenAI, w połączeniu z programowaniem i automatyzacją. Celem kursu jest nauka, jak wykorzystywać sztuczną inteligencję do codziennych zadań i projektowania narzędzi, które zwiększą efektywność pracy oraz pozwolą na lepsze zrozumienie dziedziny AI.\n",
      "\n",
      "Na stronie znajdują się informacje o zbliżającej się drugiej edycji kursu, która ma rozpocząć się 23 października. Podkreśla się, że już wielu programistów jest zapisanych na tę edycję. Strona promuje także interaktywny charakter kursu, gdzie uczestnicy będą mieli okazję uczestniczyć w sesjach na żywo, oglądać lekcje wideo oraz aktywnie uczestniczyć w dyskusjach i wymianie wiedzy z innymi programistami.\n",
      "\n",
      "W treści strony wymieniani są twórcy kursu, a także podkreśla się, że AI Devs to największe szkolenie dotyczące narzędzi AI dla programistów w Polsce. Strona zachęca do dołączenia do kursu, który jest prowadzony przez Adama Gospodarczyka, Jakuba Mrugalskiego oraz Mateusza Chroboka, znanych ekspertów w dziedzinie sztucznej inteligencji.\n",
      "\n",
      "Warto również zaznaczyć, że strona zawiera kilka tagline'ów, które podkreślają znaczenie kursu, jak również wskazują na możliwości, jakie otwierają się przed osobami uczestniczącymi w kursie, takie jak pracowanie z narzędziami opartymi na AI. Dodatkowo, na stronie można znaleźć odniesienia do Generative AI oraz integracji z OpenAI API, co sugeruje, że kurs może skupiać się na praktycznych umiejętnościach związanych z tymi technologiami.\n"
     ]
    }
   ],
   "source": [
    "response = requests.post(\"https://game.aidevs.pl/api\", data=dict(url='https://aidevs.pl/?param=dummy'))\n",
    "print(response.text)"
   ]
  },
  {
   "cell_type": "code",
   "execution_count": null,
   "id": "9be7ea27",
   "metadata": {},
   "outputs": [],
   "source": []
  }
 ],
 "metadata": {
  "kernelspec": {
   "display_name": "Python [conda env:ai-devs-2]",
   "language": "python",
   "name": "conda-env-ai-devs-2-py"
  },
  "language_info": {
   "codemirror_mode": {
    "name": "ipython",
    "version": 3
   },
   "file_extension": ".py",
   "mimetype": "text/x-python",
   "name": "python",
   "nbconvert_exporter": "python",
   "pygments_lexer": "ipython3",
   "version": "3.12.2"
  }
 },
 "nbformat": 4,
 "nbformat_minor": 5
}
