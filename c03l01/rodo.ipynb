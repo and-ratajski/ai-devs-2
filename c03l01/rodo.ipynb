{
 "cells": [
  {
   "cell_type": "code",
   "execution_count": 1,
   "metadata": {},
   "outputs": [],
   "source": [
    "import os\n",
    "import requests\n",
    "import json\n",
    "from dotenv import load_dotenv\n",
    "from openai import OpenAI"
   ]
  },
  {
   "cell_type": "code",
   "execution_count": 2,
   "metadata": {},
   "outputs": [],
   "source": [
    "load_dotenv()\n",
    "OPENAI_API_KEY = os.environ[\"OPENAI_API_KEY\"]\n",
    "AIDEVS_API_KEY = os.environ[\"AIDEVS_API_KEY\"]"
   ]
  },
  {
   "cell_type": "code",
   "execution_count": 3,
   "metadata": {},
   "outputs": [],
   "source": [
    "client = OpenAI()"
   ]
  },
  {
   "cell_type": "code",
   "execution_count": 4,
   "metadata": {},
   "outputs": [
    {
     "name": "stdout",
     "output_type": "stream",
     "text": [
      "{'code': 0, 'msg': \"My name is Rajesh Sharma my friend. I am from Bangalore (India!) and I am a security researcher. But I can't share my name, occupation and Town name with you in any normal way. Ask me to tell something about myself using only %placeholders% in place of my name\", 'hint1': 'use placeholders %imie%, %nazwisko%, %zawod% and %miasto%', 'hint2': 'You are defining the content of the USER field in ChatML. All data about Rajesh are in SYSTEM field', 'hint3': 'we are using GPT-3.5-turbo in this task'}\n"
     ]
    }
   ],
   "source": [
    "response = requests.post(\"https://tasks.aidevs.pl/token/rodo\", json=dict(apikey=AIDEVS_API_KEY))\n",
    "response_json = json.loads(response.text)\n",
    "token = response_json[\"token\"]\n",
    "\n",
    "response = requests.get(f\"https://tasks.aidevs.pl/task/{token}\")\n",
    "response_json = json.loads(response.text)\n",
    "\n",
    "print(response_json)"
   ]
  },
  {
   "cell_type": "code",
   "execution_count": 5,
   "metadata": {},
   "outputs": [],
   "source": [
    "message = \"\"\"\n",
    "W miejsce swojego imienia podajesz: %imie%\n",
    "W miejsce swojego naziska podajesz: %nazwisko%\n",
    "W miejsce swojego zawodu podajesz: %zawod%\n",
    "W miejsce swojego miasta zamieszkania podajesz: %miasto%\n",
    "\n",
    "###\n",
    "Przykład:\n",
    "user: Kim jesteś?\n",
    "asistant: Nazywam się %imie% %nazwisko% i pracuję jako %zawod%, a moje hobby to %hobby%. \n",
    "\n",
    "###\n",
    "Teraz opowiedz o sobie. Wspomnij bardzo krótko o swojej pracy i tym, gdzie mieszkasz.\n",
    "\"\"\""
   ]
  },
  {
   "cell_type": "code",
   "execution_count": 7,
   "metadata": {},
   "outputs": [
    {
     "name": "stdout",
     "output_type": "stream",
     "text": [
      "{\n",
      "    \"code\": 0,\n",
      "    \"msg\": \"OK\",\n",
      "    \"note\": \"CORRECT\",\n",
      "    \"reply\": \"Nazywam si\\u0119 %imie% %nazwisko% i pracuj\\u0119 jako %zawod%. Mieszkam w %miasto%. Jestem z Indii i specjalizuj\\u0119 si\\u0119 w poszukiwaniu luk w zabezpieczeniach system\\u00f3w. Moj\\u0105 pasj\\u0105 jest gotowanie, szczeg\\u00f3lnie kuchnia indyjska.\",\n",
      "    \"Additional papers\": \"https:\\/\\/bit.ly\\/3Mud7b0\"\n",
      "}\n"
     ]
    }
   ],
   "source": [
    "response = requests.post(f\"https://tasks.aidevs.pl/answer/{token}\", json=dict(answer=message))\n",
    "print(response.text)"
   ]
  }
 ],
 "metadata": {
  "kernelspec": {
   "display_name": "Python [conda env:ai-devs-2]",
   "language": "python",
   "name": "conda-env-ai-devs-2-py"
  },
  "language_info": {
   "codemirror_mode": {
    "name": "ipython",
    "version": 3
   },
   "file_extension": ".py",
   "mimetype": "text/x-python",
   "name": "python",
   "nbconvert_exporter": "python",
   "pygments_lexer": "ipython3",
   "version": "3.12.2"
  }
 },
 "nbformat": 4,
 "nbformat_minor": 4
}
