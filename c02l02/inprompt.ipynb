{
 "cells": [
  {
   "cell_type": "code",
   "execution_count": 1,
   "metadata": {},
   "outputs": [],
   "source": [
    "import asyncio\n",
    "\n",
    "import os\n",
    "import requests\n",
    "import json\n",
    "from dotenv import load_dotenv\n",
    "from openai import OpenAI, AsyncOpenAI"
   ]
  },
  {
   "cell_type": "code",
   "execution_count": 2,
   "metadata": {},
   "outputs": [],
   "source": [
    "load_dotenv()\n",
    "OPENAI_API_KEY = os.environ[\"OPENAI_API_KEY\"]\n",
    "AIDEVS_API_KEY = os.environ[\"AIDEVS_API_KEY\"]"
   ]
  },
  {
   "cell_type": "code",
   "execution_count": 3,
   "metadata": {},
   "outputs": [],
   "source": [
    "# client = OpenAI()\n",
    "client = AsyncOpenAI(api_key=OPENAI_API_KEY)"
   ]
  },
  {
   "cell_type": "code",
   "execution_count": 4,
   "metadata": {},
   "outputs": [
    {
     "name": "stdout",
     "output_type": "stream",
     "text": [
      "jakiego koloru oczy ma Ezaw?\n"
     ]
    }
   ],
   "source": [
    "response = requests.post(\"https://tasks.aidevs.pl/token/inprompt\", json=dict(apikey=AIDEVS_API_KEY))\n",
    "response_json = json.loads(response.text)\n",
    "token = response_json[\"token\"]\n",
    "\n",
    "response = requests.get(f\"https://tasks.aidevs.pl/task/{token}\")\n",
    "response_json = json.loads(response.text)\n",
    "\n",
    "input_text = response_json['input']\n",
    "question = response_json['question']\n",
    "answer = \"\"\n",
    "print(question)"
   ]
  },
  {
   "cell_type": "code",
   "execution_count": 5,
   "metadata": {},
   "outputs": [],
   "source": [
    "async def asummerize_text(idx, text):\n",
    "    system_content = \"\"\"\n",
    "You are a summary machine that summarizes given text and returns a person name the text is about. You expect the text to be in polish language.\n",
    "\n",
    "Examples:\n",
    "user: Adam ma szare oczy, średniej długości włosy i pracuje jako nauczyciel, a na śniadanie najbardziej lubi jeść kurczaka.\n",
    "asistant: Adam\n",
    "\"\"\"\n",
    "\n",
    "    completion = await client.chat.completions.create(\n",
    "      model=\"gpt-3.5-turbo\",\n",
    "      messages=[\n",
    "        {\"role\": \"system\", \"content\": system_content},\n",
    "        {\"role\": \"user\", \"content\": text}\n",
    "      ]\n",
    "    )\n",
    "    return (idx, str(completion.choices[0].message.content))"
   ]
  },
  {
   "cell_type": "code",
   "execution_count": 6,
   "metadata": {},
   "outputs": [],
   "source": [
    "async def aanswer_question(context, question):\n",
    "    system_content = \"\"\"\n",
    "You are expected to answer given question about some person based on input you are provided. If you cannot figure out the answer simply return 'I do not know that'.\n",
    "\n",
    "Examples:\n",
    "user: Context: Kordian ma brązowe oczy, krótkie włosy i pracuje jako architekt. Kordian na śniadanie najbardziej lubi jeść parówki.\\n ### \\n Question: Jakiego koloru są oczy Kordiana?\n",
    "asistant: brązowego\n",
    "\"\"\"\n",
    "    \n",
    "    completion = await client.chat.completions.create(\n",
    "        model=\"gpt-4\",\n",
    "        messages=[\n",
    "            {\"role\": \"system\", \"content\": system_content},\n",
    "            {\"role\": \"user\", \"content\": f\"Context: {context}\\n #### \\n Question: {question}\"}\n",
    "        ]\n",
    "    )\n",
    "    return str(completion.choices[0].message.content)"
   ]
  },
  {
   "cell_type": "code",
   "execution_count": 7,
   "metadata": {},
   "outputs": [],
   "source": [
    "async def main():\n",
    "    global answer\n",
    "    q_name = await asummerize_text(0, question)\n",
    "    print(q_name)\n",
    "    \n",
    "    summerize_tasks = [asummerize_text(idx, text) for idx, text in enumerate(input_text)]\n",
    "    results = await asyncio.gather(*summerize_tasks)\n",
    "    \n",
    "    filtered_names = [name_tuple[0] for name_tuple in results if name_tuple[1] == q_name[1]]\n",
    "    \n",
    "    context = \"\"\n",
    "    for idx, text in enumerate(input_text):\n",
    "        if idx in filtered_names:\n",
    "            context = context + input_text[idx] + \". \"\n",
    "    print(context)\n",
    "    \n",
    "    answer = await aanswer_question(context, question)\n",
    "    print(answer)"
   ]
  },
  {
   "cell_type": "code",
   "execution_count": 8,
   "metadata": {},
   "outputs": [],
   "source": [
    "loop = asyncio.get_event_loop()\n",
    "# loop.create_task(main())\n",
    "coroutine = asyncio.run_coroutine_threadsafe(main(), loop)"
   ]
  },
  {
   "cell_type": "code",
   "execution_count": 11,
   "metadata": {},
   "outputs": [
    {
     "name": "stdout",
     "output_type": "stream",
     "text": [
      "FINISHED\n",
      "niebieskiego\n"
     ]
    }
   ],
   "source": [
    "# Manually check if the async calls to OpenAI are finished...\n",
    "print(coroutine._state)\n",
    "print(answer)"
   ]
  },
  {
   "cell_type": "code",
   "execution_count": 12,
   "metadata": {},
   "outputs": [
    {
     "name": "stdout",
     "output_type": "stream",
     "text": [
      "{\n",
      "    \"code\": 0,\n",
      "    \"msg\": \"OK\",\n",
      "    \"note\": \"CORRECT\"\n",
      "}\n"
     ]
    }
   ],
   "source": [
    "response = requests.post(f\"https://tasks.aidevs.pl/answer/{token}\", json=dict(answer=answer))\n",
    "print(response.text)"
   ]
  }
 ],
 "metadata": {
  "kernelspec": {
   "display_name": "Python [conda env:ai-devs-2]",
   "language": "python",
   "name": "conda-env-ai-devs-2-py"
  },
  "language_info": {
   "codemirror_mode": {
    "name": "ipython",
    "version": 3
   },
   "file_extension": ".py",
   "mimetype": "text/x-python",
   "name": "python",
   "nbconvert_exporter": "python",
   "pygments_lexer": "ipython3",
   "version": "3.12.2"
  }
 },
 "nbformat": 4,
 "nbformat_minor": 4
}
