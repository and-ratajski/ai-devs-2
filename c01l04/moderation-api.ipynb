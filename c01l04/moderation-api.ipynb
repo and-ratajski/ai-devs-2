{
 "cells": [
  {
   "cell_type": "code",
   "execution_count": 1,
   "metadata": {},
   "outputs": [],
   "source": [
    "import os\n",
    "import requests\n",
    "import json\n",
    "from dotenv import load_dotenv\n",
    "from openai import OpenAI"
   ]
  },
  {
   "cell_type": "code",
   "execution_count": 2,
   "metadata": {},
   "outputs": [],
   "source": [
    "load_dotenv()\n",
    "OPENAI_API_KEY = os.environ[\"OPENAI_API_KEY\"]\n",
    "AIDEVS_API_KEY = os.environ[\"AIDEVS_API_KEY\"]"
   ]
  },
  {
   "cell_type": "code",
   "execution_count": 3,
   "metadata": {},
   "outputs": [],
   "source": [
    "client = OpenAI()"
   ]
  },
  {
   "cell_type": "code",
   "execution_count": 4,
   "metadata": {},
   "outputs": [],
   "source": [
    "response = client.moderations.create(input=\"To jest zdanie, które powinno przejść\")\n",
    "output = response.results[0]"
   ]
  },
  {
   "cell_type": "code",
   "execution_count": 5,
   "metadata": {},
   "outputs": [
    {
     "name": "stdout",
     "output_type": "stream",
     "text": [
      "{'harassment': 0.00035014841705560684, 'harassment_threatening': 5.864134800503962e-05, 'hate': 0.0005976696847938001, 'hate_threatening': 8.453023838228546e-06, 'self_harm': 2.443450057398877e-06, 'self_harm_instructions': 1.6457053675367206e-07, 'self_harm_intent': 5.065106734036817e-07, 'sexual': 0.0027317798230797052, 'sexual_minors': 0.000356318021658808, 'violence': 0.0013797468272969127, 'violence_graphic': 2.5857763830572367e-05}\n",
      "\n",
      "{'harassment': False, 'harassment_threatening': False, 'hate': False, 'hate_threatening': False, 'self_harm': False, 'self_harm_instructions': False, 'self_harm_intent': False, 'sexual': False, 'sexual_minors': False, 'violence': False, 'violence_graphic': False}\n",
      "\n",
      "False\n"
     ]
    }
   ],
   "source": [
    "print(output.category_scores.__dict__, end=\"\\n\\n\")\n",
    "print(output.categories.__dict__, end=\"\\n\\n\")\n",
    "print(output.flagged)"
   ]
  },
  {
   "cell_type": "code",
   "execution_count": 6,
   "metadata": {},
   "outputs": [
    {
     "name": "stdout",
     "output_type": "stream",
     "text": [
      "{'code': 0, 'msg': 'please return 0/1 for each sentence to classify if this is content that requires moderation', 'input': ['ten gość musi zginąć. Nie pozwole sobię na obrażanie mnie.', 'majonez Winiary jest lepszy od Kieleckiego', 'Sasha.Grey.s3x.p0rn.extreme-interracial.S03E12.DVDRip.mp4', 'azjaci są głupi i brzydcy i nie powinni żyć']}\n"
     ]
    }
   ],
   "source": [
    "response = requests.post(\"https://tasks.aidevs.pl/token/moderation\", json=dict(apikey=AIDEVS_API_KEY))\n",
    "response_json = json.loads(response.text)\n",
    "token = response_json[\"token\"]\n",
    "\n",
    "response = requests.get(f\"https://tasks.aidevs.pl/task/{token}\")\n",
    "response_json = json.loads(response.text)\n",
    "\n",
    "print(response_json)"
   ]
  },
  {
   "cell_type": "code",
   "execution_count": 8,
   "metadata": {},
   "outputs": [
    {
     "name": "stdout",
     "output_type": "stream",
     "text": [
      "Checking sentence: ten gość musi zginąć. Nie pozwole sobię na obrażanie mnie.\n",
      "Checking sentence: majonez Winiary jest lepszy od Kieleckiego\n",
      "Checking sentence: Sasha.Grey.s3x.p0rn.extreme-interracial.S03E12.DVDRip.mp4\n",
      "Checking sentence: azjaci są głupi i brzydcy i nie powinni żyć\n",
      "Flagged sentences: [1, 0, 1, 1]\n"
     ]
    }
   ],
   "source": [
    "flag_list = []\n",
    "for msg in response_json[\"input\"]:\n",
    "    print(f\"Checking sentence: {msg}\")\n",
    "    res = client.moderations.create(input=msg)\n",
    "    otp = res.results[0]\n",
    "    flag_list.append(int(otp.flagged))\n",
    "    \n",
    "print(f\"Flagged sentences: {flag_list}\")"
   ]
  },
  {
   "cell_type": "code",
   "execution_count": 10,
   "metadata": {},
   "outputs": [
    {
     "name": "stdout",
     "output_type": "stream",
     "text": [
      "{\n",
      "    \"code\": 0,\n",
      "    \"msg\": \"OK\",\n",
      "    \"note\": \"CORRECT\"\n",
      "}\n"
     ]
    }
   ],
   "source": [
    "response = requests.post(f\"https://tasks.aidevs.pl/answer/{token}\", json=dict(answer=flag_list))\n",
    "print(response.text)"
   ]
  }
 ],
 "metadata": {
  "kernelspec": {
   "display_name": "Python [conda env:ai-devs-2]",
   "language": "python",
   "name": "conda-env-ai-devs-2-py"
  },
  "language_info": {
   "codemirror_mode": {
    "name": "ipython",
    "version": 3
   },
   "file_extension": ".py",
   "mimetype": "text/x-python",
   "name": "python",
   "nbconvert_exporter": "python",
   "pygments_lexer": "ipython3",
   "version": "3.12.2"
  }
 },
 "nbformat": 4,
 "nbformat_minor": 4
}
